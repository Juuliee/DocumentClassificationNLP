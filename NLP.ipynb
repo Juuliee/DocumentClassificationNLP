{
 "cells": [
  {
   "cell_type": "markdown",
   "metadata": {},
   "source": [
    "# Document Classification On Imbalanced Data\n",
    "------------------\n",
    "\n",
    "## Table of Contents\n",
    "\n",
    "__[1. Introduction](#first-bullet)__\n",
    "\n",
    "__[2. Creating The Imbalanced Dataset](#second-bullet)__\n",
    "\n",
    "__[3. Preprocessing & Feature Extraction](#third-bullet)__\n",
    "\n",
    "__[4. The Naive Bayes Model & Scikit-learn Pipeline](#fourth-bullet)__\n",
    "\n",
    "__[5. Handling Imbalanced Data](#fifth-bullet)__\n",
    "\n",
    "__[6. Stop Word Removal](#sixth-bullet)__\n",
    "\n",
    "__[7. HyperParameter Tunning With GridSearchCV](#seventh-bullet)__\n",
    "\n",
    "__[8. Conclusions](#eigth-bullet)__\n",
    "\n",
    "\n",
    "---------\n",
    "\n",
    "## Introduction <a class=\"anchor\" id=\"first-bullet\"></a>\n",
    "-----------\n",
    "\n",
    "Natural language processing or NLP is an hot topic in data science and machine learning.  While research in NLP dates back to the 1950's, the real revolution in this domain came in 1980's and 1990's with the introduction of statistical models and fast computational power. Before this most language processing tasks made use of hand-coded rules which were generally not very robust.\n",
    "\n",
    "The span of topics in Natural Language Processing is immense and I'll just getting to the tip of the iceberg with going over the topic of [document classification](https://en.wikipedia.org/wiki/Document_classification) also known as [text classification](https://monkeylearn.com/text-classification/).  I will be working with the <a href=\"http://scikit-learn.org/\">Scikit-learn</a> library and using its provided dataset the <a href=\"http://qwone.com/~jason/20Newsgroups/\">20 News Groups</a>, but with a twist to make it more realistic. The 20 New Groups is collection of almost 20,000 articles on 20 different topics or 'newsgroups' and we will use a subset of the data and tweak the data so that it is imbalanced.  Having imbalanced makes the developing a good model more challenging, but it is also more realistic.  Imbalanced classes often occur in classification problems and may times it is too expensive or not possible to get more data on the classes that have to few samples. Developing strategies for dealing with imbalanced data is paramount for creating good classification models.\n",
    "\n",
    "Let's dive into the data! "
   ]
  },
  {
   "cell_type": "markdown",
   "metadata": {},
   "source": [
    "## Creating The Imbalanced Dataset <a class=\"anchor\" id=\"second-bullet\"></a>\n",
    "\n",
    "We can obtain the training and testing sets directly from Scikit-Learn the following commands:"
   ]
  },
  {
   "cell_type": "code",
   "execution_count": 1,
   "metadata": {},
   "outputs": [],
   "source": [
    "from sklearn.datasets import fetch_20newsgroups\n",
    "twenty_train = fetch_20newsgroups(subset='train', shuffle=True)\n",
    "twenty_test  = fetch_20newsgroups(subset='test', shuffle=True)"
   ]
  },
  {
   "cell_type": "markdown",
   "metadata": {},
   "source": [
    "We can then view the total number of articles:"
   ]
  },
  {
   "cell_type": "code",
   "execution_count": 2,
   "metadata": {},
   "outputs": [
    {
     "data": {
      "text/plain": [
       "18846"
      ]
     },
     "execution_count": 2,
     "metadata": {},
     "output_type": "execute_result"
    }
   ],
   "source": [
    "len(twenty_train.data) + len(twenty_test.data)"
   ]
  },
  {
   "cell_type": "markdown",
   "metadata": {},
   "source": [
    "All the documents within the data set belong to the following 20 topics,"
   ]
  },
  {
   "cell_type": "code",
   "execution_count": 3,
   "metadata": {},
   "outputs": [
    {
     "data": {
      "text/plain": [
       "['alt.atheism',\n",
       " 'comp.graphics',\n",
       " 'comp.os.ms-windows.misc',\n",
       " 'comp.sys.ibm.pc.hardware',\n",
       " 'comp.sys.mac.hardware',\n",
       " 'comp.windows.x',\n",
       " 'misc.forsale',\n",
       " 'rec.autos',\n",
       " 'rec.motorcycles',\n",
       " 'rec.sport.baseball',\n",
       " 'rec.sport.hockey',\n",
       " 'sci.crypt',\n",
       " 'sci.electronics',\n",
       " 'sci.med',\n",
       " 'sci.space',\n",
       " 'soc.religion.christian',\n",
       " 'talk.politics.guns',\n",
       " 'talk.politics.mideast',\n",
       " 'talk.politics.misc',\n",
       " 'talk.religion.misc']"
      ]
     },
     "execution_count": 3,
     "metadata": {},
     "output_type": "execute_result"
    }
   ],
   "source": [
    "twenty_train.target_names"
   ]
  },
  {
   "cell_type": "markdown",
   "metadata": {},
   "source": [
    "We can look at the actual message within the documents,"
   ]
  },
  {
   "cell_type": "code",
   "execution_count": 4,
   "metadata": {},
   "outputs": [
    {
     "name": "stdout",
     "output_type": "stream",
     "text": [
      "From: lerxst@wam.umd.edu (where's my thing)\n",
      "Subject: WHAT car is this!?\n",
      "Nntp-Posting-Host: rac3.wam.umd.edu\n",
      "Organization: University of Maryland, College Park\n",
      "Lines: 15\n",
      "\n",
      " I was wondering if anyone out there could enlighten me on this car I saw\n",
      "the other day. It was a 2-door sports car, looked to be from the late 60s/\n",
      "early 70s. It was called a Bricklin. The doors were really small. In addition,\n",
      "the front bumper was separate from the rest of the body. This is \n",
      "all I know. If anyone can tellme a model name, engine specs, years\n",
      "of production, where this car is made, history, or whatever info you\n",
      "have on this funky looking car, please e-mail.\n",
      "\n",
      "Thanks,\n",
      "- IL\n",
      "   ---- brought to you by your neighborhood Lerxst ----\n",
      "\n",
      "\n",
      "\n",
      "\n",
      "\n"
     ]
    }
   ],
   "source": [
    "doc = \"\\n\".join(twenty_train.data[0].split(\"\\n\"))\n",
    "print(doc)"
   ]
  },
  {
   "cell_type": "markdown",
   "metadata": {},
   "source": [
    "But if we look at the target classes they are actually encoded using a categorical variable,"
   ]
  },
  {
   "cell_type": "code",
   "execution_count": 5,
   "metadata": {},
   "outputs": [
    {
     "data": {
      "text/plain": [
       "7"
      ]
     },
     "execution_count": 5,
     "metadata": {},
     "output_type": "execute_result"
    }
   ],
   "source": [
    "twenty_train.target[0]"
   ]
  },
  {
   "cell_type": "markdown",
   "metadata": {},
   "source": [
    "In order to view the human readible version of the target we create a dictionary to map the categorical variables (numbers) to labels:"
   ]
  },
  {
   "cell_type": "code",
   "execution_count": 6,
   "metadata": {},
   "outputs": [],
   "source": [
    "codings = list(range(len(twenty_train.target_names)))\n",
    "target_dic = dict(zip(codings,twenty_train.target_names))"
   ]
  },
  {
   "cell_type": "markdown",
   "metadata": {},
   "source": [
    "Now we can see the actual document's topic:"
   ]
  },
  {
   "cell_type": "code",
   "execution_count": 7,
   "metadata": {},
   "outputs": [
    {
     "data": {
      "text/plain": [
       "'rec.autos'"
      ]
     },
     "execution_count": 7,
     "metadata": {},
     "output_type": "execute_result"
    }
   ],
   "source": [
    "target_dic[twenty_train.target[0]]"
   ]
  },
  {
   "cell_type": "markdown",
   "metadata": {},
   "source": [
    "Let's take a the dictionary:"
   ]
  },
  {
   "cell_type": "code",
   "execution_count": 8,
   "metadata": {},
   "outputs": [
    {
     "data": {
      "text/plain": [
       "{0: 'alt.atheism',\n",
       " 1: 'comp.graphics',\n",
       " 2: 'comp.os.ms-windows.misc',\n",
       " 3: 'comp.sys.ibm.pc.hardware',\n",
       " 4: 'comp.sys.mac.hardware',\n",
       " 5: 'comp.windows.x',\n",
       " 6: 'misc.forsale',\n",
       " 7: 'rec.autos',\n",
       " 8: 'rec.motorcycles',\n",
       " 9: 'rec.sport.baseball',\n",
       " 10: 'rec.sport.hockey',\n",
       " 11: 'sci.crypt',\n",
       " 12: 'sci.electronics',\n",
       " 13: 'sci.med',\n",
       " 14: 'sci.space',\n",
       " 15: 'soc.religion.christian',\n",
       " 16: 'talk.politics.guns',\n",
       " 17: 'talk.politics.mideast',\n",
       " 18: 'talk.politics.misc',\n",
       " 19: 'talk.religion.misc'}"
      ]
     },
     "execution_count": 8,
     "metadata": {},
     "output_type": "execute_result"
    }
   ],
   "source": [
    "target_dic"
   ]
  },
  {
   "cell_type": "markdown",
   "metadata": {},
   "source": [
    "One piece of termanology that is used frequently in NLP is the text <a href=\"https://en.wikipedia.org/wiki/Text_corpus\">**corpus**</a>. The text corpus is a large set of texts and can be used to describe what the `twent_train.data` and `twenty_test.data` datasets are.\n",
    "\n",
    "\n",
    "Let's alter the data and **only consider at those documents in the corpus that are related to recreation**, i.e. the labels:\n"
   ]
  },
  {
   "cell_type": "code",
   "execution_count": 9,
   "metadata": {},
   "outputs": [],
   "source": [
    "new_labels = [\"rec.autos\", \"rec.motorcycles\",\"rec.sport.baseball\",\"rec.sport.hockey\"]"
   ]
  },
  {
   "cell_type": "markdown",
   "metadata": {},
   "source": [
    "The twety new groups isn't quite stored as structured data, so in order to filter out the non-recreation documents we'll have to convert the datasets to [Pandas](https://pandas.pydata.org/) dataframes to work with it easier:"
   ]
  },
  {
   "cell_type": "code",
   "execution_count": 10,
   "metadata": {},
   "outputs": [],
   "source": [
    "import pandas as pd \n",
    "\n",
    "train_df = pd.DataFrame({\"text\"  : twenty_train.data,\n",
    "                         \"target\": twenty_train.target})\n",
    "\n",
    "# filter out non-recreation documents\n",
    "train_df  = train_df[train_df[\"target\"].isin([7,8,9,10])]\n",
    "\n",
    "\n",
    "test_df = pd.DataFrame({\"text\"  : twenty_test.data,\n",
    "                        \"target\": twenty_test.target})\n",
    "\n",
    "# filter out non-recreation documents\n",
    "test_df   = test_df[test_df[\"target\"].isin([7,8,9,10])]"
   ]
  },
  {
   "cell_type": "markdown",
   "metadata": {},
   "source": [
    "Let's take a look at the number of samples in the training and test set:"
   ]
  },
  {
   "cell_type": "code",
   "execution_count": 11,
   "metadata": {},
   "outputs": [
    {
     "data": {
      "text/plain": [
       "target\n",
       "7     594\n",
       "8     598\n",
       "9     597\n",
       "10    600\n",
       "dtype: int64"
      ]
     },
     "execution_count": 11,
     "metadata": {},
     "output_type": "execute_result"
    }
   ],
   "source": [
    "train_df.groupby(\"target\").size()"
   ]
  },
  {
   "cell_type": "code",
   "execution_count": 12,
   "metadata": {},
   "outputs": [
    {
     "data": {
      "text/plain": [
       "target\n",
       "7     396\n",
       "8     398\n",
       "9     397\n",
       "10    399\n",
       "dtype: int64"
      ]
     },
     "execution_count": 12,
     "metadata": {},
     "output_type": "execute_result"
    }
   ],
   "source": [
    "test_df.groupby(\"target\").size()"
   ]
  },
  {
   "cell_type": "markdown",
   "metadata": {},
   "source": [
    "All of the classes have about the same number of samples.  We'll choose `hockey` as the class to shrink so that the data is imbalanced, i.e. we'll reduce it by 75%:"
   ]
  },
  {
   "cell_type": "code",
   "execution_count": 13,
   "metadata": {},
   "outputs": [],
   "source": [
    "# subset the hockey class\n",
    "train_hockey_df     = train_df[train_df[\"target\"] == 10].sample(frac=0.25)\n",
    "train_no_hockey_df  = train_df[train_df[\"target\"] != 10]\n",
    "\n",
    "# get the rest of the clases\n",
    "test_hockey_df     = test_df[test_df[\"target\"] == 10].sample(frac=0.25)\n",
    "test_no_hockey_df  = test_df[test_df[\"target\"] != 10]\n",
    "\n",
    "# combine the training and test sets to be imbalanced datasets\n",
    "imbal_train_df = pd.concat([train_hockey_df, train_no_hockey_df], axis=0)\n",
    "imbal_test_df  = pd.concat([test_no_hockey_df, test_hockey_df], axis=0)"
   ]
  },
  {
   "cell_type": "markdown",
   "metadata": {},
   "source": [
    "We can take at the absolute numeber and percentages:"
   ]
  },
  {
   "cell_type": "code",
   "execution_count": 14,
   "metadata": {},
   "outputs": [
    {
     "name": "stdout",
     "output_type": "stream",
     "text": [
      "Counts: target\n",
      "7     594\n",
      "8     598\n",
      "9     597\n",
      "10    150\n",
      "dtype: int64\n"
     ]
    }
   ],
   "source": [
    "print(\"Counts:\", imbal_train_df.groupby(\"target\").size())"
   ]
  },
  {
   "cell_type": "code",
   "execution_count": 15,
   "metadata": {},
   "outputs": [
    {
     "name": "stdout",
     "output_type": "stream",
     "text": [
      "Class percent: target\n",
      "7     30.634348\n",
      "8     30.840640\n",
      "9     30.789067\n",
      "10     7.735946\n",
      "dtype: float64\n"
     ]
    }
   ],
   "source": [
    "print(\"Class percent:\", 100 * imbal_train_df.groupby(\"target\").size() / imbal_train_df.shape[0])"
   ]
  },
  {
   "cell_type": "code",
   "execution_count": 16,
   "metadata": {},
   "outputs": [
    {
     "name": "stdout",
     "output_type": "stream",
     "text": [
      "Class percent: target\n",
      "7     30.673896\n",
      "8     30.828815\n",
      "9     30.751356\n",
      "10     7.745933\n",
      "dtype: float64\n"
     ]
    }
   ],
   "source": [
    "print(\"Class percent:\", 100 * imbal_test_df.groupby(\"target\").size() / imbal_test_df.shape[0])"
   ]
  },
  {
   "cell_type": "markdown",
   "metadata": {},
   "source": [
    "From now on we'll be working with the imbalanced dataframes `imbal_train_df` and `imbal_test_df`.  Now that we have an idea of what kind of data we are working with we can start to do some machine learning on it.  As with all datasets there is some required preprocessing before machine learning.  With numerical data there needs to be some cleaning and <a href=\"http://scikit-learn.org/stable/modules/generated/sklearn.preprocessing.scale.html\">scaling</a> of the features. However, in Natural Language Processing there is much more substantial preprocessing stage that we'll go over next."
   ]
  },
  {
   "cell_type": "markdown",
   "metadata": {},
   "source": [
    "## Preprocessing & Feature Extraction <a class=\"anchor\" id=\"third-bullet\"></a>\n",
    "--------------------\n",
    "\n",
    "The first thing we need to go over is the concept of the <a href=\"https://en.wikipedia.org/wiki/Bag-of-words_model\">**bag of words model**</a>.  *In the bag-of-words model, a text (such as a sentence or a document) is represented as \"bag\" or list of its words, disregarding grammar and even word order, but keeping multiplicity of the words.*  A two document example is:\n",
    "\n",
    "- **D1:**  Hi, I am Mike and I like Boston.\n",
    "\n",
    "- **D2:**  Boston is a city and people in Boston like the Red Sox.\n",
    "\n",
    "From these two documents, a list, or 'bag-of-words' is constructed\n",
    "\n",
    "    bag = ['Hi', 'I', 'am', 'Mike', 'and', 'like', 'Boston', 'is', \n",
    "           'a', 'city, 'and', 'people', 'in', 'the', 'red', 'sox]\n",
    "\n",
    "\n",
    "Notice how in our bag-of-words we have dropped repetitions of the words 'I', 'is' and 'Mike', we will show how multiplicity of words enters into our model next. \n",
    "\n",
    "The bag-of-words model is mainly used as a tool of feature generation. After transforming the text into a \"bag of words\", we can calculate various measures to characterize the document.  In order to do so we have to generate a vector for each document that represents the number of times each entry in the bag of words appears in the text. The order of entries in the vector corresponds to the order of the entries in the bag-of-words list.  For example, document D1 would have a vector,\n",
    "\n",
    "    [1, 2, 1, 1, 1, 1, 1, 0, 0, 0, 0 ,0, 0, 0, 0, 0]\n",
    "    \n",
    "while the second document, D2, would have the vector,\n",
    "\n",
    "    [0, 0, 0, 0, 0, 0, 1, 2, 1, 1, 1, 1, 1, 1, 1, 1]\n",
    "\n",
    "Each entry of the lists refers to frequency or count of the corresponding entry in the bag-of-words list.  When we have a stacked collection of (row) vectors, or matrix, where each row corresponds to a document (vector), and each column corresponds to a word in the bag-of-words list, then this will be known as our **term-frequency ($\\text{tf}$) [document matrix](https://en.wikipedia.org/wiki/Document-term_matrix)**. The general formula for an entry in the $\\text{tf}$ matrix is,\n",
    "\n",
    "$$\\text{tf}(d,t) \\,  = \\, f_{t,d}$$\n",
    "    \n",
    "where $f_{t,d}$ is the number of times the term $t$ occurs in document $d \\in \\mathcal{D}$, where $\\mathcal{D}$ is our text corpus. We can create a term-frequency matrix for the above example using Scikit-learns <a href=\"http://scikit-learn.org/stable/modules/generated/sklearn.feature_extraction.text.CountVectorizer.html#sklearn.feature_extraction.text.CountVectorizer\">CountVectorizer</a> class:"
   ]
  },
  {
   "cell_type": "code",
   "execution_count": 17,
   "metadata": {},
   "outputs": [
    {
     "name": "stdout",
     "output_type": "stream",
     "text": [
      "['am', 'and', 'boston', 'city', 'hi', 'in', 'is', 'like', 'mike', 'people', 'red', 'sox', 'the']\n",
      "[[1 1 1 0 1 0 0 1 1 0 0 0 0]\n",
      " [0 1 2 1 0 1 1 1 0 1 1 1 1]]\n"
     ]
    }
   ],
   "source": [
    "from sklearn.feature_extraction.text import CountVectorizer\n",
    "\n",
    "vectorizer =  CountVectorizer()\n",
    "\n",
    "corpus     = [\"Hi, I am Mike and I like Boston.\",\n",
    "              \"Boston is a city and people in Boston like the Red Sox.\"]\n",
    "\n",
    "# get the term frequency\n",
    "tf  = vectorizer.fit_transform(corpus)\n",
    "\n",
    "# get the words in bag-of-words\n",
    "print(vectorizer.get_feature_names())\n",
    "\n",
    "# get the counts!\n",
    "print(tf.toarray())"
   ]
  },
  {
   "cell_type": "markdown",
   "metadata": {},
   "source": [
    "The order of the words is off and CountVectorizer dropped single letter words and punctutation, but the rest is the same!\n",
    "\n",
    "**Notice CountVectorizer converts everything to lowercase, drops single letter words and punctuation.**\n",
    "\n",
    "Let's try CountVectorizer on our dataset:"
   ]
  },
  {
   "cell_type": "code",
   "execution_count": 18,
   "metadata": {},
   "outputs": [
    {
     "name": "stdout",
     "output_type": "stream",
     "text": [
      "Shape of term-frequency matrix: (1939, 26901)\n"
     ]
    }
   ],
   "source": [
    "count_vect = CountVectorizer()\n",
    "\n",
    "X_train_tf = count_vect.fit_transform(imbal_train_df[\"text\"])\n",
    "\n",
    "print(\"Shape of term-frequency matrix:\", X_train_tf.shape)"
   ]
  },
  {
   "cell_type": "markdown",
   "metadata": {},
   "source": [
    "The term-frequency is a sparse matrix where each row is a document in our training corpus ($\\mathcal{D}$) and each column corresponds to a term/word in the bag-of-words list. This can be confirmed by comparing the number of rows in the term-frequency matrix to the number of documents in the training set:"
   ]
  },
  {
   "cell_type": "code",
   "execution_count": 19,
   "metadata": {},
   "outputs": [
    {
     "name": "stdout",
     "output_type": "stream",
     "text": [
      "Number of training documents:  1939\n"
     ]
    }
   ],
   "source": [
    "print(\"Number of training documents: \", imbal_train_df.shape[0])"
   ]
  },
  {
   "cell_type": "markdown",
   "metadata": {},
   "source": [
    "Most often term-frequency alone is not a good measure of the importance of a word/term to a document's topic.  Very common words like \"the\", \"a\", \"to\" are almost always the terms with the highest frequency in the text. Thus, having a high raw count of the number of times a term appears in a document does not necessarily mean that the corresponding word is more important. Furtermore, longer documents could have high frequency of terms that do not correlate with the document topic, but instead occur with high numbers solely due to the length of the document.\n",
    "\n",
    "To circumvent the limination of term-frequency, we often normalize it by the **inverse document frequency (idf)**.  This results in the **term frequency-inverse document frequency (tf-idf)** matrix.  The *inverse document frequency is a measure of how much information the word provides, that is, whether the term is common or rare across all documents in the corpus*.  We can give a formal defintion of the inverse-document-frequency by letting $\\mathcal{D}$ be the corpus or the set of all documents and $N$ is the number of documents in the corpus and $N_{t,D}$ be the number of documents that contain the term $t$ then, \n",
    "\n",
    "$$idf(t,\\mathcal{D}) \\, = \\,  \\log\\left(\\frac{N_{\\mathcal{D}}}{1 + N_{t,\\mathcal{D}}}\\right) \\, = \\, -  \\log\\left(\\frac{1 + N_{t,\\mathcal{D}}}{N_{\\mathcal{D}}}\\right) $$\n",
    "\n",
    "The reason for the presence of the $1$ is for smoothing.  Without it, if the term/word did not appear in any training documents, then its inverse-document-frequency would be $idf(t,\\mathcal{D}) = \\infty$.  However, with the presense of the $1$ it will now have $idf(t,\\mathcal{D}) = 0$.\n",
    "\n",
    "\n",
    "Now we can formally defined the term frequnecy-inverse document frequency as a normalized version of term-frequency,\n",
    "\n",
    "\n",
    "$$\\text{tf-idf}(t,d) \\, = \\, tf(t,d) \\cdot idf(t,\\mathcal{D}) $$\n",
    "\n",
    "Like the term-frequency, the term frequency-inverse document frequency is a sparse matrix, where again, each row is a document in our training corpus ($\\mathcal{D}$) and each column corresponds to a term/word in the bag-of-words list.  The $\\text{tf-idf}$ matrix can be constructed using the sklearn <a href=\"http://scikit-learn.org/stable/modules/generated/sklearn.feature_extraction.text.TfidfTransformer.html\">TfidfTransformer</a> class:"
   ]
  },
  {
   "cell_type": "code",
   "execution_count": 20,
   "metadata": {},
   "outputs": [
    {
     "data": {
      "text/plain": [
       "(1939, 26901)"
      ]
     },
     "execution_count": 20,
     "metadata": {},
     "output_type": "execute_result"
    }
   ],
   "source": [
    "from sklearn.feature_extraction.text import TfidfTransformer\n",
    "tfidf_transformer = TfidfTransformer()\n",
    "X_train_tfidf = tfidf_transformer.fit_transform(X_train_tf)\n",
    "X_train_tfidf.shape"
   ]
  },
  {
   "cell_type": "markdown",
   "metadata": {},
   "source": [
    "We should note that the $\\text{tf-idf}$ matrix is the same shape as the $\\text{tf}$ matrix, but the two have different values.\n",
    "\n",
    "\n",
    "Now that we have built our $\\text{tf-idf}$ matrix we can start to look at the which terms/words are most associated with document topics and then build a predictive model to classify the documents' topic. Let's first go over the model we will be using for prediction."
   ]
  },
  {
   "cell_type": "markdown",
   "metadata": {},
   "source": [
    "## The Naive Bayes Model & Scikit-learn Pipelines<a class=\"anchor\" id=\"fourth-bullet\"></a>\n",
    "-------------------\n",
    "\n",
    "### The Naive Bayes Model\n",
    "-------------------\n",
    "\n",
    "One of the most basic models for text classification is the <a href=\"https://en.wikipedia.org/wiki/Naive_Bayes_classifier\">Naive Bayes model</a>. The Naive Bayes classification model predicts the document topic, $y = \\{C_{1},C_{2},\\ldots, C_{k}\\}$ where $C_{k}$ is the class or topic based on the document feactures $\\textbf{x} \\in \\mathbb{N}^{p}$,  and $p$ is the number of terms in our bag-of-words list.  The feature vector,\n",
    "\n",
    "$$\\textbf{x} \\, = \\, \\left[ x_{1}, x_{2}, \\ldots , x_{p} \\right] $$\n",
    "\n",
    "contains counts $x_{i}$ for the $\\text{tf-idf}$ value of the i-th term in our bag-of-words list.  Using <a href=\"https://en.wikipedia.org/wiki/Bayes%27_theorem\">Bayes Theorem</a> we can develop a model to predict the topic class  ($C_{k}$) of a document from its feature vector $\\textbf{x}$,\n",
    "\n",
    "$$P\\left(C_{k} \\, \\vert \\, x_{1}, \\ldots , x_{p} \\right) \\; = \\; \\frac{P\\left(x_{1}, \\ldots, x_{p} \\, \\vert \\, C_{k} \\right)P(C_{k})}{P\\left(x_{1}, \\ldots, x_{p} \\right)}$$\n",
    "\n",
    "The Naive Bayes model makes the \"Naive\" assumption the probability of each term's $\\text{tf-idf}$ is **conditionally independent** of every other term.  This reduces our **conditional probability function** to the product,\n",
    "\n",
    "$$ P\\left(x_{1}, \\ldots, x_{p} \\, \\vert \\, C_{k} \\right) \\; = \\; \\Pi_{i=1}^{p} P\\left(x_{i} \\, \\vert \\, C_{k} \\right)$$\n",
    "\n",
    "Subsequently Bayes' theorem for our classification problem becomes,\n",
    "\n",
    "$$P\\left(C_{k} \\, \\vert \\, x_{1}, \\ldots , x_{p} \\right) \\; = \\; \\frac{ P(C_{k}) \\, \\Pi_{i=1}^{p} P\\left(x_{i} \\, \\vert \\, C_{k} \\right)}{P\\left(x_{1}, \\ldots, x_{p} \\right)}$$\n",
    "\n",
    "\n",
    "Since the denominator is independent of the class ($C_{k}$) we can use a <a href=\"https://en.wikipedia.org/wiki/Maximum_a_posteriori\">Maxmimum A Posteriori</a> method to estimate the document topic , \n",
    "\n",
    "$$ \\hat{y} \\, = \\, \\text{arg max}_{k}\\;  P(C_{k}) \\,  \\Pi_{i=1}^{p} P\\left(x_{i} \\, \\vert \\, C_{k} \\right)$$ \n",
    "\n",
    "\n",
    "The **prior**, $P(C_{k}),$ is often taken to be the relative frequency of the class in the training corpus, while the form of the conditional distribution $P\\left(x_{i} \\, \\vert \\, C_{k} \\right)$ is a choice of the modeler and determines the type of Naive Bayes classifier. \n",
    "\n",
    "\n",
    "We will use a <a href=\"http://scikit-learn.org/stable/modules/generated/sklearn.naive_bayes.MultinomialNB.html#sklearn.naive_bayes.MultinomialNB\">multinomial Naive Bayes</a> model which works well when our features are discrete variables such as those in our $\\text{tf-idf}$ matrix.  In the multinomial Naive Bayes model the conditional probability takes the form,\n",
    "\n",
    "\n",
    "$$ P\\left(x_{1}, \\ldots, x_{p} \\, \\vert \\, C_{k} \\right) \\, = \\, \\frac{\\left(\\sum_{i=1}^{p} x_{i}\\right)!}{\\Pi_{i=1}^{p} x_{i}!}  \\Pi_{i=1}^{p} p_{k,i}^{x_{i}}$$\n",
    "\n",
    "\n",
    "where $p_{k,i}$ is the probability that the $k$-th class will have the $i$-th bag-of-words term in its feature vector. This leads to our **posterior distribution** having the functional form,\n",
    "\n",
    "$$P\\left(C_{k} \\, \\vert \\, x_{1}, \\ldots , x_{p} \\right) \\; = \\; \\frac{ P(C_{k})}{P\\left(x_{1}, \\ldots, x_{p} \\right)} \\, \\frac{\\left(\\sum_{i=1}^{p} x_{i}\\right)!}{\\Pi_{i=1}^{p} x_{i}!}  \\Pi_{i=1}^{p} p_{k,i}^{x_{i}}$$\n",
    "\n",
    "The Naive Bayes classifier can be fast compared to more sophisticated methods due to the decoupling of the class conditional feature distributions, i.e.\n",
    "\n",
    "$$ P\\left(x_{1}, \\ldots, x_{p} \\, \\vert \\, C_{k} \\right) \\; = \\; \\Pi_{i=1}^{p} P\\left(x_{i} \\, \\vert \\, C_{k} \\right)$$\n",
    "\n",
    "**The decoupling of the class conditional distributions allows for each distribution to be independently estimated as a one dimensional distribution and helps to alleviate problems with the curse of dimensionality.**\n",
    "\n",
    "We can instantiate a multinomial Naive Bayes classifier using the Scikit-learn library and fit it to our  $\\text{tf-idf}$ matrix using the commands,"
   ]
  },
  {
   "cell_type": "code",
   "execution_count": 21,
   "metadata": {},
   "outputs": [
    {
     "data": {
      "text/plain": [
       "MultinomialNB(alpha=1.0, class_prior=None, fit_prior=True)"
      ]
     },
     "execution_count": 21,
     "metadata": {},
     "output_type": "execute_result"
    }
   ],
   "source": [
    "from sklearn.naive_bayes import MultinomialNB\n",
    "from sklearn.metrics import (accuracy_score, \n",
    "                             balanced_accuracy_score,\n",
    "                             f1_score)\n",
    "\n",
    "mod = MultinomialNB()\n",
    "mod.fit(X_train_tfidf, imbal_train_df[\"target\"])"
   ]
  },
  {
   "cell_type": "markdown",
   "metadata": {},
   "source": [
    "The term `alpha=1` means we are using <a href=\"https://en.wikipedia.org/wiki/Laplace_smoothing\">Laplace smoothing</a>. We can now look at the accuracy of our classifier using Scikit-learns <a href=\"http://scikit-learn.org/stable/modules/generated/sklearn.metrics.accuracy_score.html\">accuracy_score</a> function:"
   ]
  },
  {
   "cell_type": "code",
   "execution_count": 22,
   "metadata": {},
   "outputs": [
    {
     "name": "stdout",
     "output_type": "stream",
     "text": [
      "Accuracy: 0.8985282726568552\n"
     ]
    }
   ],
   "source": [
    "X_test_tf = count_vect.transform(imbal_test_df[\"text\"])\n",
    "X_test_tfidf = tfidf_transformer.transform(X_test_tf)\n",
    "\n",
    "predicted = mod.predict(X_test_tfidf)\n",
    "print(\"Accuracy:\", accuracy_score(imbal_test_df[\"target\"], predicted))"
   ]
  },
  {
   "cell_type": "markdown",
   "metadata": {},
   "source": [
    "About 90% which is very good!  We can get more a detailed view of the performance of our classifier by using the Scikit-learn library's <a href=\"http://scikit-learn.org/stable/modules/generated/sklearn.metrics.classification_report.html\">classification report</a> function,"
   ]
  },
  {
   "cell_type": "code",
   "execution_count": 23,
   "metadata": {},
   "outputs": [
    {
     "name": "stdout",
     "output_type": "stream",
     "text": [
      "                    precision    recall  f1-score   support\n",
      "\n",
      "         rec.autos       0.93      0.98      0.96       396\n",
      "   rec.motorcycles       0.98      0.96      0.97       398\n",
      "rec.sport.baseball       0.80      0.98      0.89       397\n",
      "  rec.sport.hockey       0.00      0.00      0.00       100\n",
      "\n",
      "          accuracy                           0.90      1291\n",
      "         macro avg       0.68      0.73      0.70      1291\n",
      "      weighted avg       0.84      0.90      0.86      1291\n",
      "\n"
     ]
    },
    {
     "name": "stderr",
     "output_type": "stream",
     "text": [
      "/Users/mukeharmon/miniconda/envs/NLP/lib/python3.7/site-packages/sklearn/metrics/classification.py:1437: UndefinedMetricWarning: Precision and F-score are ill-defined and being set to 0.0 in labels with no predicted samples.\n",
      "  'precision', 'predicted', average, warn_for)\n"
     ]
    }
   ],
   "source": [
    "from sklearn.metrics import classification_report\n",
    "print(classification_report(imbal_test_df[\"target\"],\n",
    "                            predicted, \n",
    "                            target_names=new_labels))"
   ]
  },
  {
   "cell_type": "markdown",
   "metadata": {},
   "source": [
    "Whoa our precision and recall for hockey is terrible! Low recall means that the false negatives for hockey are very high; meaning we are failing to classify documents as hockey when they are hockey. The lower precision for `baseball` and the fact is the only other sport leads me to believe that we are wrongly saying `hockey` documents are `baseball` documents.\n",
    "\n",
    "Our accuracy is fairly high still, this is because accuracy is not a good metric for a classifiers performance when the data is imbalanced! We can instead use the [balanced_accuracy](https://scikit-learn.org/stable/modules/generated/sklearn.metrics.balanced_accuracy_score.html) "
   ]
  },
  {
   "cell_type": "code",
   "execution_count": 28,
   "metadata": {},
   "outputs": [
    {
     "name": "stdout",
     "output_type": "stream",
     "text": [
      "balanced_accuracy 0.7304927654582098\n"
     ]
    }
   ],
   "source": [
    "print(\"balanced_accuracy\", balanced_accuracy_score(imbal_test_df[\"target\"], \n",
    "                                                   predicted))"
   ]
  },
  {
   "cell_type": "markdown",
   "metadata": {},
   "source": [
    "We can also use the [f1 score](https://en.wikipedia.org/wiki/F1_score) which is balances the precision and recall into one score.  This makes sense to use as we want to increase both precision and recall, albiet for different classes.  Since the classes are imbalanced we will use the weighted f1 score:"
   ]
  },
  {
   "cell_type": "code",
   "execution_count": 29,
   "metadata": {},
   "outputs": [
    {
     "name": "stdout",
     "output_type": "stream",
     "text": [
      "weighted f1 score: 0.8639566552666129\n"
     ]
    }
   ],
   "source": [
    "print(\"weighted f1 score:\", f1_score(imbal_test_df[\"target\"], \n",
    "                                     predicted, \n",
    "                                     average=\"weighted\"))"
   ]
  },
  {
   "cell_type": "markdown",
   "metadata": {},
   "source": [
    "We can see that the balanced accuracy and weighted f1 score are much better representation of how our model is performing than plain accuracy!  We'll try to improve our models performance using some more advanced preprocessing techniques.  This will be made much easier by using the concept of Scikit-learn's <a href=\"http://scikit-learn.org/stable/modules/generated/sklearn.pipeline.Pipeline.html\">pipeline</a> utility."
   ]
  },
  {
   "cell_type": "markdown",
   "metadata": {},
   "source": [
    "### Scikit-learn Pipelines\n",
    "---------------\n",
    "\n",
    "In Scitkit-learn pipelines are a sequence of transformationss followed by a final estimator. Intermediate steps within the pipeline must be ‘transform’ methods, that is, they must implement fit and transform methods. The <code>CountVectorizer</code> and <code>TfidfTransformer</code> are used as transformers in our above example.  The final estimator of a pipeline only needs to implement the fit method.  We can see the simplicity of pipelines by using it to re-implement our above analysis using the Naive Bayes model:"
   ]
  },
  {
   "cell_type": "code",
   "execution_count": 30,
   "metadata": {},
   "outputs": [
    {
     "name": "stdout",
     "output_type": "stream",
     "text": [
      "                    precision    recall  f1-score   support\n",
      "\n",
      "         rec.autos       0.93      0.98      0.96       396\n",
      "   rec.motorcycles       0.98      0.96      0.97       398\n",
      "rec.sport.baseball       0.80      0.98      0.89       397\n",
      "  rec.sport.hockey       0.00      0.00      0.00       100\n",
      "\n",
      "          accuracy                           0.90      1291\n",
      "         macro avg       0.68      0.73      0.70      1291\n",
      "      weighted avg       0.84      0.90      0.86      1291\n",
      "\n",
      "\n",
      "balanced_accuracy 0.7304927654582098\n",
      "weighted f1 score: 0.8639566552666129\n"
     ]
    },
    {
     "name": "stderr",
     "output_type": "stream",
     "text": [
      "/Users/mukeharmon/miniconda/envs/NLP/lib/python3.7/site-packages/sklearn/metrics/classification.py:1437: UndefinedMetricWarning: Precision and F-score are ill-defined and being set to 0.0 in labels with no predicted samples.\n",
      "  'precision', 'predicted', average, warn_for)\n",
      "/Users/mukeharmon/miniconda/envs/NLP/lib/python3.7/site-packages/sklearn/metrics/classification.py:1437: UndefinedMetricWarning: F-score is ill-defined and being set to 0.0 in labels with no predicted samples.\n",
      "  'precision', 'predicted', average, warn_for)\n"
     ]
    }
   ],
   "source": [
    "from sklearn.pipeline import Pipeline\n",
    "\n",
    "pipe  = Pipeline([('vect', CountVectorizer()),\n",
    "                  ('tfidf', TfidfTransformer()),\n",
    "                  ('model', MultinomialNB())])\n",
    "\n",
    "model = pipe.fit(imbal_train_df[\"text\"], imbal_train_df[\"target\"])\n",
    "\n",
    "pred  = model.predict(imbal_test_df[\"text\"])\n",
    "\n",
    "print(classification_report(imbal_test_df[\"target\"],\n",
    "                            pred, \n",
    "                            target_names=new_labels))\n",
    "print()\n",
    "print(\"balanced_accuracy\", balanced_accuracy_score(imbal_test_df[\"target\"], \n",
    "                                                   pred))\n",
    "\n",
    "print(\"weighted f1 score:\", f1_score(imbal_test_df[\"target\"], \n",
    "                                     pred, \n",
    "                                     average=\"weighted\"))"
   ]
  },
  {
   "cell_type": "markdown",
   "metadata": {
    "collapsed": true
   },
   "source": [
    "Notice how when using pipelines we passed `imbal_train_df` and `imbal_test_df` into the `fit` and predict methods instead of the `X_train_tfidf` and `X_test_tfidf` objects as we did in the previous section. The transformations occur under-the-hood using the Scikit-learn pipeline functionality.  "
   ]
  },
  {
   "cell_type": "markdown",
   "metadata": {},
   "source": [
    "## Handling Class Imbalance <a class=\"anchor\" id=\"fifth-bullet\"></a>\n",
    "-----------------\n",
    "\n",
    "Class imbalance of our data causes our model to underperform and there is not one clear answer on how to address the issue.  There are two ways to address this issue:\n",
    "\n",
    "1. Alter the data\n",
    "2. Alter the algorithm\n",
    "\n",
    "At the data level we'll try \"upsampling the minority class\" and \"downsampling the majority class\", however for the majority class well call this \"majority classes\" since it includes more than one class. At the algorithm level we'll try change the scoring metric we want to use in the optimization of the model and that will dictate the hyperparameters to use. Some other techniques are dicussed [here](https://www.svds.com/learning-imbalanced-classes/).  In undersampling the minority class we [bootstrap](https://en.wikipedia.org/wiki/Bootstrapping_(statistics)) the minority class, repeating samples to make the class sizes are similar. In downsampling the majority class we bootstrap the majority class, but reduce the number of samples until all the classes have similar size. This process is depicted below:\n",
    "\n",
    "| ![](images/under_over_sampling.png) | \n",
    "|:--:| \n",
    "| *From https://towardsdatascience.com/having-an-imbalanced-dataset-here-is-how-you-can-solve-it-1640568947eb* |\n",
    "\n",
    "\n",
    "There are pitfalls to both strategies, upsampling the minority class can bias our model to overemphasize certain words, while downsampling the majority class can also add bias to our model as well.  Undersampling has traditionally been used in dealing with imbalanced classes so we will start out with that first using the [resample](https://scikit-learn.org/stable/modules/generated/sklearn.utils.resample.html) function from Scikit-learn,"
   ]
  },
  {
   "cell_type": "code",
   "execution_count": 31,
   "metadata": {},
   "outputs": [
    {
     "name": "stdout",
     "output_type": "stream",
     "text": [
      "                    precision    recall  f1-score   support\n",
      "\n",
      "         rec.autos       0.94      0.98      0.96       396\n",
      "   rec.motorcycles       0.98      0.96      0.97       398\n",
      "rec.sport.baseball       0.90      0.98      0.94       397\n",
      "  rec.sport.hockey       1.00      0.54      0.70       100\n",
      "\n",
      "          accuracy                           0.94      1291\n",
      "         macro avg       0.96      0.87      0.89      1291\n",
      "      weighted avg       0.94      0.94      0.94      1291\n",
      "\n",
      "\n",
      "balanced_accuracy 0.866124078589523\n",
      "weighted f1 score: 0.936850953410362\n"
     ]
    }
   ],
   "source": [
    "from sklearn.utils import resample\n",
    "\n",
    "# upsample to more double the 400 samples to make \n",
    "# class size closer to even\n",
    "upsampled_hockey_df = resample(train_hockey_df,\n",
    "                               replace=True,\n",
    "                               n_samples=400,\n",
    "                               random_state=123)\n",
    "\n",
    "# create the new dataset with the upssample dataset with the other classes\n",
    "upsampled_df = pd.concat([train_no_hockey_df, upsampled_hockey_df], axis=0)\n",
    "\n",
    "# train the model\n",
    "model        = pipe.fit(upsampled_df[\"text\"], upsampled_df[\"target\"])\n",
    "\n",
    "predicted    = model.predict(imbal_test_df[\"text\"])\n",
    "\n",
    "print(classification_report(imbal_test_df[\"target\"],\n",
    "                            predicted, \n",
    "                            target_names=new_labels))\n",
    "print()\n",
    "print(\"balanced_accuracy\", balanced_accuracy_score(imbal_test_df[\"target\"], \n",
    "                                                   predicted))\n",
    "\n",
    "print(\"weighted f1 score:\", f1_score(imbal_test_df[\"target\"], \n",
    "                                     predicted, average=\"weighted\"))"
   ]
  },
  {
   "cell_type": "markdown",
   "metadata": {},
   "source": [
    "We see an increae in baseball's precission and hockey's precision and recall! Let's try downsampling the majority classes:"
   ]
  },
  {
   "cell_type": "code",
   "execution_count": 32,
   "metadata": {},
   "outputs": [
    {
     "name": "stdout",
     "output_type": "stream",
     "text": [
      "                    precision    recall  f1-score   support\n",
      "\n",
      "         rec.autos       0.94      0.87      0.90       396\n",
      "   rec.motorcycles       0.96      0.89      0.92       398\n",
      "rec.sport.baseball       0.97      0.24      0.39       397\n",
      "  rec.sport.hockey       0.22      1.00      0.36       100\n",
      "\n",
      "          accuracy                           0.69      1291\n",
      "         macro avg       0.77      0.75      0.64      1291\n",
      "      weighted avg       0.90      0.69      0.71      1291\n",
      "\n",
      "\n",
      "balanced_accuracy 0.7493571958078052\n",
      "weighted f1 score: 0.7084473731062672\n"
     ]
    }
   ],
   "source": [
    "# upsample to more double the 900 samples to make \n",
    "# class size closer to even\n",
    "downsampled_df = resample(train_no_hockey_df,\n",
    "                          replace=True,\n",
    "                          n_samples=900,\n",
    "                          random_state=123)\n",
    "\n",
    "# create the new dataset with the upssample dataset\n",
    "# and downsampled dataset\n",
    "new_sampled_df = pd.concat([downsampled_df, upsampled_hockey_df], axis=0)\n",
    "                            \n",
    "# train model\n",
    "model          = pipe.fit(new_sampled_df[\"text\"], new_sampled_df[\"target\"])\n",
    "\n",
    "predicted      = model.predict(imbal_test_df[\"text\"])\n",
    "\n",
    "print(classification_report(imbal_test_df[\"target\"],\n",
    "                            predicted, \n",
    "                            target_names=new_labels))\n",
    "\n",
    "print()\n",
    "\n",
    "print(\"balanced_accuracy\", balanced_accuracy_score(imbal_test_df[\"target\"], \n",
    "                                                   predicted))\n",
    "\n",
    "print(\"weighted f1 score:\", f1_score(imbal_test_df[\"target\"], \n",
    "                                     predicted, average=\"weighted\"))\n"
   ]
  },
  {
   "cell_type": "markdown",
   "metadata": {},
   "source": [
    "Downsampling the majority class didnt really help.  Ideally I would do a cross validated gridsearch on the number of samples to use for upsampling or downsampling, but for now let's take a look how the choices affect the training and test error.  We create a general function for doing both upsampling and downsampling:"
   ]
  },
  {
   "cell_type": "code",
   "execution_count": 33,
   "metadata": {},
   "outputs": [],
   "source": [
    "def train_test_accuracy(\n",
    "    train_major_df : pd.DataFrame,\n",
    "    train_minor_df : pd.DataFrame,\n",
    "    test_df        : pd.DataFrame,\n",
    "    downsample     : bool,\n",
    "    n_samples      : int\n",
    ") -> (float, float):\n",
    "    \"\"\"\n",
    "    Creates balanced datasets and returns the balanced\n",
    "    accuracy error on the training and test set. The\n",
    "    majority and minority dataframes are separated at\n",
    "    the training level so we can upsample/downsample\n",
    "    them to acheive a balanced dataset.\n",
    "    \n",
    "    Params:\n",
    "    ---------\n",
    "    train_major_df : The majority classes dataframe\n",
    "    train_minor_df : The majority classes dataframe\n",
    "    test_df        : The imbalanced test set \n",
    "    downsample     : boolean if downsampling or upsampling\n",
    "    n_samples      : The number of samples to create in the \n",
    "                     downsampled/upsampled dataset\n",
    "                     \n",
    "    Returns: \n",
    "    ---------\n",
    "    Training error and test error\n",
    "    \"\"\"\n",
    "\n",
    "    # downsample the majority class or unsample the \n",
    "    # minority class\n",
    "    if downsample is True:\n",
    "        downsampled_df = resample(train_major_df,\n",
    "                                  replace      = True,\n",
    "                                  n_samples    = n_samples,\n",
    "                                  random_state = 123)\n",
    "        \n",
    "        upsampled_df   = train_minor_df\n",
    "    else:\n",
    "        downsampled_df = train_major_df\n",
    "        \n",
    "        upsampled_df   = resample(train_minor_df,\n",
    "                                  replace      = True,\n",
    "                                  n_samples    = n_samples,\n",
    "                                  random_state = 123)\n",
    "        \n",
    "    # create the \"balanced\" dataset\n",
    "    new_sampled_df = pd.concat([downsampled_df, upsampled_df], axis=0)\n",
    "\n",
    "    # fit the models\n",
    "    model          = pipe.fit(new_sampled_df[\"text\"], new_sampled_df[\"target\"])\n",
    "\n",
    "    # get the balanced training and test error\n",
    "    train_pred     = model.predict(new_sampled_df[\"text\"])\n",
    "    test_pred      = model.predict(test_df[\"text\"])\n",
    "\n",
    "    train_accur    = balanced_accuracy_score(new_sampled_df[\"target\"], \n",
    "                                             train_pred)\n",
    "\n",
    "    test_accur     = balanced_accuracy_score(test_df[\"target\"], \n",
    "                                             test_pred)\n",
    "\n",
    "    return 1-train_accur, 1-test_accur"
   ]
  },
  {
   "cell_type": "markdown",
   "metadata": {},
   "source": [
    "Let's now use [partial](https://www.learnpython.org/en/Partial_functions) to make specific functions for upsampling the minority class."
   ]
  },
  {
   "cell_type": "code",
   "execution_count": 34,
   "metadata": {},
   "outputs": [
    {
     "data": {
      "text/plain": [
       "<matplotlib.legend.Legend at 0x1a1a4655d0>"
      ]
     },
     "execution_count": 34,
     "metadata": {},
     "output_type": "execute_result"
    },
    {
     "data": {
      "image/png": "[encoded data removed]",
      "text/plain": [
       "<Figure size 720x432 with 1 Axes>"
      ]
     },
     "metadata": {
      "needs_background": "light"
     },
     "output_type": "display_data"
    }
   ],
   "source": [
    "from functools import partial\n",
    "\n",
    "# create function to create upsampling with only\n",
    "# parameter being n_samples\n",
    "upsample_train_test = partial(train_test_accuracy,\n",
    "                              train_no_hockey_df, \n",
    "                              train_hockey_df, \n",
    "                              imbal_test_df,\n",
    "                              False)\n",
    "# create n_samples\n",
    "minority_samples                = list(range(150,700,10))\n",
    "\n",
    "# get the train/test error for each of the n_samples\n",
    "train_min_accur, test_min_accur = zip(*map(upsample_train_test,minority_samples))\n",
    "\n",
    "# plot the results\n",
    "import matplotlib.pyplot as plt\n",
    "%matplotlib inline\n",
    "plt.figure(figsize=(10,6))\n",
    "plt.plot(minority_samples, train_min_accur, label=\"Training Error\")\n",
    "plt.plot(minority_samples, test_min_accur,  label=\"Testing Error\")\n",
    "plt.ylabel(\"Balanced Error\",fontsize=13)\n",
    "plt.xlabel(\"Number Of Training Samples\",fontsize=13)\n",
    "plt.title(\"Learning Curves For Upsampling Minority Class\", fontsize=15)\n",
    "plt.legend(fontsize=13)"
   ]
  },
  {
   "cell_type": "markdown",
   "metadata": {},
   "source": [
    "From the growing gap between the training error and test error as we increase `n_samples` it's evident that were introducing some bias by upsampling the minjority class.  However, adding more miniority samples does decrease the test error so we'll hang on to it. Let's try downsampling the majority classes:"
   ]
  },
  {
   "cell_type": "code",
   "execution_count": 35,
   "metadata": {},
   "outputs": [
    {
     "data": {
      "text/plain": [
       "<matplotlib.legend.Legend at 0x1a1b5a60d0>"
      ]
     },
     "execution_count": 35,
     "metadata": {},
     "output_type": "execute_result"
    },
    {
     "data": {
      "image/png": "[encoded data removed]",
      "text/plain": [
       "<Figure size 720x432 with 1 Axes>"
      ]
     },
     "metadata": {
      "needs_background": "light"
     },
     "output_type": "display_data"
    }
   ],
   "source": [
    "# create function to create downsampling with only\n",
    "# parameter being n_samples\n",
    "downsample_train_test = partial(train_test_accuracy,\n",
    "                                train_no_hockey_df, \n",
    "                                train_hockey_df, \n",
    "                                imbal_test_df,\n",
    "                                True)\n",
    "# create n_samples\n",
    "majority_samples                = [3*i for i in range(100,600,10)]\n",
    "\n",
    "# get the train/test error for each of the n_samples\n",
    "train_maj_accur, test_maj_accur = zip(*map(downsample_train_test,majority_samples))\n",
    "\n",
    "# plot the results, but with x-axis reversed to see to make\n",
    "# sense for downsampling\n",
    "plt.figure(figsize=(10,6))\n",
    "ax = plt.gca()\n",
    "ax.invert_xaxis()\n",
    "\n",
    "plt.plot(majority_samples, \n",
    "         train_maj_accur, \n",
    "         label=\"Training Error\")\n",
    "\n",
    "plt.plot(majority_samples, \n",
    "         test_maj_accur,  \n",
    "         label=\"Testing Error\")\n",
    "\n",
    "plt.ylabel(\"Balanced Error\",fontsize=13)\n",
    "plt.xlabel(\"Number Of Training Samples\",fontsize=13)\n",
    "plt.title(\"Learning Curves For Downsampling Majority Class\", fontsize=15)\n",
    "plt.legend(fontsize=13)"
   ]
  },
  {
   "cell_type": "markdown",
   "metadata": {},
   "source": [
    "Downsampling the majority classes just seems to increase the bias until the datasets classes are roughly even, but at that stage we have a very small sample size.  Nor does the training error decrease until around 1,100 samples.   It's a little weird looking, but as we increase the number of samples in the majority classes we increase the training error, this is counter intuitive! I believe this is because increasing the other classes' size increases the imbalance!\n",
    "\n",
    "For now let's just stick to upsampling the minority class at the max we looked at, 500:"
   ]
  },
  {
   "cell_type": "code",
   "execution_count": 36,
   "metadata": {},
   "outputs": [
    {
     "name": "stdout",
     "output_type": "stream",
     "text": [
      "                    precision    recall  f1-score   support\n",
      "\n",
      "         rec.autos       0.95      0.98      0.96       396\n",
      "   rec.motorcycles       0.98      0.96      0.97       398\n",
      "rec.sport.baseball       0.96      0.96      0.96       397\n",
      "  rec.sport.hockey       0.88      0.84      0.86       100\n",
      "\n",
      "          accuracy                           0.96      1291\n",
      "         macro avg       0.94      0.93      0.94      1291\n",
      "      weighted avg       0.96      0.96      0.96      1291\n",
      "\n",
      "\n",
      "balanced_accuracy 0.9348236689515819\n",
      "weighted f1 score: 0.9564594681637013\n"
     ]
    }
   ],
   "source": [
    "upsampled_hockey_df = resample(train_hockey_df,\n",
    "                                replace=True,\n",
    "                                n_samples=500,\n",
    "                                random_state=123)\n",
    "\n",
    "new_sampled_df = pd.concat([train_no_hockey_df, \n",
    "                            upsampled_hockey_df], \n",
    "                           axis=0)\n",
    "\n",
    "model          = pipe.fit(new_sampled_df[\"text\"], new_sampled_df[\"target\"])\n",
    "\n",
    "predicted      = model.predict(imbal_test_df[\"text\"])\n",
    "\n",
    "print(classification_report(imbal_test_df[\"target\"],\n",
    "                            predicted, \n",
    "                            target_names=new_labels))\n",
    "\n",
    "print()\n",
    "print(\"balanced_accuracy\", balanced_accuracy_score(imbal_test_df[\"target\"], \n",
    "                                                   predicted))\n",
    "\n",
    "print(\"weighted f1 score:\", f1_score(imbal_test_df[\"target\"], \n",
    "                                     predicted, average=\"weighted\"))"
   ]
  },
  {
   "cell_type": "markdown",
   "metadata": {},
   "source": [
    "A pretty good improvment in our scores, but the precision/recall on hockey is still quite low.  Let's try another preprocessing routine to see if this improves our recall."
   ]
  },
  {
   "cell_type": "markdown",
   "metadata": {},
   "source": [
    "## Stop Words Removal <a class=\"anchor\" id=\"sixth-bullet\"></a>\n",
    "------------\n",
    "\n",
    "We can look to improve our model by removing <a href=\"https://en.wikipedia.org/wiki/Stop_words\">stop words</a> which are common words in the english language and do not add any information into the text. These includes words such as, \"the\", \"at\", \"is\", etc.  Let's look at an example using the Natural Language Toolkit ([NLTK](https://www.nltk.org/#)).  First we get an example document,"
   ]
  },
  {
   "cell_type": "code",
   "execution_count": 38,
   "metadata": {
    "scrolled": false
   },
   "outputs": [
    {
     "name": "stdout",
     "output_type": "stream",
     "text": [
      "From: kkeller@mail.sas.upenn.edu (Keith Keller)\n",
      "Subject: Detroit-Toronto?\n",
      "Organization: University of Pennsylvania, School of Arts and Sciences\n",
      "Lines: 10\n",
      "Nntp-Posting-Host: mail.sas.upenn.edu\n",
      "\n",
      "What's the deal?  c.s.h. has nothing on it yet.  Is it in OT, is it over,\n",
      "what?  I want to know!  We all want to know!  Where's Roger when you need\n",
      "him?!?!?!?!  :-)\n",
      "\n",
      "--\n",
      "    Keith Keller\t\t\t\tLET'S GO RANGERS!!!!!\n",
      "\t\t\t\t\t\tLET'S GO QUAKERS!!!!!\n",
      "\tkkeller@mail.sas.upenn.edu\t\tIVY LEAGUE CHAMPS!!!!\n",
      "\n",
      "\t   \"A cow is not a vegetarian dish.\"  -- Keith Keller, 1993\n",
      "\n"
     ]
    }
   ],
   "source": [
    "# example document\n",
    "doc_lines = imbal_train_df[\"text\"].iloc[0].split(\"\\n\") \n",
    "\n",
    "print(\"\\n\".join(doc_lines))"
   ]
  },
  {
   "cell_type": "markdown",
   "metadata": {},
   "source": [
    "We import the nltk package and download the data required for stopwords."
   ]
  },
  {
   "cell_type": "code",
   "execution_count": 39,
   "metadata": {},
   "outputs": [
    {
     "name": "stdout",
     "output_type": "stream",
     "text": [
      "showing info https://raw.githubusercontent.com/nltk/nltk_data/gh-pages/index.xml\n"
     ]
    }
   ],
   "source": [
    "import nltk\n",
    "nltk.download()\n",
    "from nltk.corpus import stopwords \n",
    "from nltk.tokenize import word_tokenize "
   ]
  },
  {
   "cell_type": "markdown",
   "metadata": {},
   "source": [
    "Now we collect the stop words as a set. We have to do things in a funky way so that the formatting is the same as above.  `doc_lines` is a list where each entry in the line in the document. In order to preserve this we have to tokenize each line, filter it, then use join to make it a string again. We do this independently for each line in the list and then join the list of strings back and insert a \"\\n\" between the filtered lines to make the format match the previous document."
   ]
  },
  {
   "cell_type": "code",
   "execution_count": 40,
   "metadata": {},
   "outputs": [
    {
     "name": "stdout",
     "output_type": "stream",
     "text": [
      "From : kkeller @ mail.sas.upenn.edu ( Keith Keller )\n",
      "Subject : Detroit-Toronto ?\n",
      "Organization : University Pennsylvania , School Arts Sciences\n",
      "Lines : 10\n",
      "Nntp-Posting-Host : mail.sas.upenn.edu\n",
      "\n",
      "What 's deal ? c.s.h . nothing yet . Is OT , ,\n",
      "? I want know ! We want know ! Where 's Roger need\n",
      "? ! ? ! ? ! ? ! : - )\n",
      "\n",
      "--\n",
      "Keith Keller LET 'S GO RANGERS ! ! ! ! !\n",
      "LET 'S GO QUAKERS ! ! ! ! !\n",
      "kkeller @ mail.sas.upenn.edu IVY LEAGUE CHAMPS ! ! ! !\n",
      "\n",
      "`` A cow vegetarian dish . '' -- Keith Keller , 1993\n",
      "\n"
     ]
    }
   ],
   "source": [
    "# collect the stopwords\n",
    "stop_words    = set(stopwords.words('english')) \n",
    "\n",
    "# tokenize each line in the list of lines \n",
    "lines_tokens  = [word_tokenize(line) for line in doc_lines]\n",
    "\n",
    "# remove stop words from each line/list\n",
    "filter_lines  = [\" \".join([token for token in tokens if token not in stop_words])\n",
    "                 for tokens in lines_tokens]\n",
    "\n",
    "print(\"\\n\".join(filter_lines))"
   ]
  },
  {
   "cell_type": "markdown",
   "metadata": {},
   "source": [
    "We can remove stop words in the `CountVectorizer` constructor call instead of using NLTK's stop word remover.  The sets of words are probably not the same, but they are probably close enough. "
   ]
  },
  {
   "cell_type": "code",
   "execution_count": 42,
   "metadata": {},
   "outputs": [
    {
     "name": "stdout",
     "output_type": "stream",
     "text": [
      "                    precision    recall  f1-score   support\n",
      "\n",
      "         rec.autos       0.96      0.97      0.96       396\n",
      "   rec.motorcycles       0.98      0.97      0.97       398\n",
      "rec.sport.baseball       0.97      0.97      0.97       397\n",
      "  rec.sport.hockey       0.89      0.89      0.89       100\n",
      "\n",
      "          accuracy                           0.96      1291\n",
      "         macro avg       0.95      0.95      0.95      1291\n",
      "      weighted avg       0.96      0.96      0.96      1291\n",
      "\n",
      "\n",
      "balanced_accuracy 0.9492017382155415\n",
      "weighted f1 score: 0.9628347818340964\n"
     ]
    }
   ],
   "source": [
    "pipe      = Pipeline([('vec', CountVectorizer(stop_words=\"english\")),\n",
    "                      ('tfidf', TfidfTransformer()),\n",
    "                      ('model', MultinomialNB())])\n",
    "\n",
    "model     = pipe.fit(new_sampled_df[\"text\"], new_sampled_df[\"target\"])\n",
    "\n",
    "predicted = model.predict(imbal_test_df[\"text\"])\n",
    "\n",
    "print(classification_report(imbal_test_df[\"target\"],\n",
    "                            predicted, \n",
    "                            target_names=new_labels))\n",
    "print()\n",
    "print(\"balanced_accuracy\", balanced_accuracy_score(imbal_test_df[\"target\"], \n",
    "                                                   predicted))\n",
    "\n",
    "print(\"weighted f1 score:\", f1_score(imbal_test_df[\"target\"], \n",
    "                                     predicted, \n",
    "                                     average=\"weighted\"))"
   ]
  },
  {
   "cell_type": "markdown",
   "metadata": {},
   "source": [
    "We can see that removing stop words gives us a decent improvement in our recall and f1-score!  Next we'll look at hyperparameter tunning to see if we can improve the model performance."
   ]
  },
  {
   "cell_type": "markdown",
   "metadata": {
    "collapsed": true
   },
   "source": [
    "## HyperParameter Tuning With GridSearchCV <a class=\"anchor\" id=\"seventh-bullet\"></a>\n",
    "----------------\n",
    "\n",
    "Not only do Scikit-learn pipelines allow us to swap out our model much easier, (say replace our Naive Bayes classifier with a support vector classifier), but they also allow us to assemble several steps that can be cross-validated together while choosing different parameters. \n",
    "\n",
    "The hyperparameters we want to look at:\n",
    "\n",
    "    - min_df : When building the vocabulary ignore terms that have a document frequency strictly lower than this #\n",
    "    \n",
    "    - smooth_idf : Smooth idf weights by adding one to document frequencies\n",
    "    \n",
    "    - use_idf : Enable inverse-document-frequency reweighting\n",
    "    \n",
    "    - alpha : Additive (Laplace/Lidstone) smoothing parameter (0 for no smoothing)\n",
    "    \n",
    "    - fit_prior : Whether to learn class prior probabilities or not. If false, a uniform prior will be used.\n",
    "    \n",
    "\n",
    "To try different values of the hyperparametrs, pipelines enable setting parameters of the various steps using the pipeline stage name and the parameter name separated by a ‘__’.  "
   ]
  },
  {
   "cell_type": "code",
   "execution_count": 43,
   "metadata": {},
   "outputs": [],
   "source": [
    "from sklearn.model_selection import GridSearchCV\n",
    "params = {'vec__min_df': (1,3),\n",
    "          'tfidf__smooth_idf': (True, False),\n",
    "          'tfidf__use_idf': (True, False),\n",
    "          'model__alpha': (1, 1e-1, 1e-2, 1e-3),\n",
    "          'model__fit_prior': (True,False)}"
   ]
  },
  {
   "cell_type": "markdown",
   "metadata": {},
   "source": [
    "Notice how when we wish to change the model parameter `alpha` (which is a smoothing regularizer) by including on \"model\" and not the `model` object. We can perform the grid search with 5-fold cross validation in parallel by setting `cv = 5` and `n_jobs=-1`.  We use our scoring metric as `balanced_accuracy` to account for the imbalanced classes when doing the grid search.  This is the way we tune our algorithm for handling imbalanced data."
   ]
  },
  {
   "cell_type": "code",
   "execution_count": 44,
   "metadata": {},
   "outputs": [],
   "source": [
    "pipe = Pipeline([('vec', CountVectorizer(stop_words=\"english\")),\n",
    "                 ('tfidf', TfidfTransformer()),\n",
    "                 ('model', MultinomialNB())])\n",
    "\n",
    "# 5 fold cross validation\n",
    "grid_search = GridSearchCV(estimator  = pipe, \n",
    "                           param_grid = params, \n",
    "                           scoring    = \"balanced_accuracy\",\n",
    "                           cv         = 5,\n",
    "                           n_jobs     =-1)"
   ]
  },
  {
   "cell_type": "markdown",
   "metadata": {},
   "source": [
    "We can then fit the data to perform the actual grid search,"
   ]
  },
  {
   "cell_type": "code",
   "execution_count": 45,
   "metadata": {},
   "outputs": [],
   "source": [
    "gs_model = grid_search.fit(new_sampled_df[\"text\"], \n",
    "                           new_sampled_df[\"target\"])"
   ]
  },
  {
   "cell_type": "markdown",
   "metadata": {},
   "source": [
    "Our model `gs_model` uses the paremeters which had the best cross-validated score. We can see a full description of the best model,"
   ]
  },
  {
   "cell_type": "code",
   "execution_count": 46,
   "metadata": {},
   "outputs": [
    {
     "name": "stdout",
     "output_type": "stream",
     "text": [
      "Pipeline(memory=None,\n",
      "         steps=[('vec',\n",
      "                 CountVectorizer(analyzer='word', binary=False,\n",
      "                                 decode_error='strict',\n",
      "                                 dtype=<class 'numpy.int64'>, encoding='utf-8',\n",
      "                                 input='content', lowercase=True, max_df=1.0,\n",
      "                                 max_features=None, min_df=1,\n",
      "                                 ngram_range=(1, 1), preprocessor=None,\n",
      "                                 stop_words='english', strip_accents=None,\n",
      "                                 token_pattern='(?u)\\\\b\\\\w\\\\w+\\\\b',\n",
      "                                 tokenizer=None, vocabulary=None)),\n",
      "                ('tfidf',\n",
      "                 TfidfTransformer(norm='l2', smooth_idf=True,\n",
      "                                  sublinear_tf=False, use_idf=False)),\n",
      "                ('model',\n",
      "                 MultinomialNB(alpha=0.1, class_prior=None, fit_prior=False))],\n",
      "         verbose=False)\n"
     ]
    }
   ],
   "source": [
    "print(gs_model.best_estimator_)"
   ]
  },
  {
   "cell_type": "markdown",
   "metadata": {},
   "source": [
    "As well as it's performance:"
   ]
  },
  {
   "cell_type": "code",
   "execution_count": 47,
   "metadata": {
    "scrolled": false
   },
   "outputs": [
    {
     "name": "stdout",
     "output_type": "stream",
     "text": [
      "                    precision    recall  f1-score   support\n",
      "\n",
      "         rec.autos       0.96      0.97      0.97       396\n",
      "   rec.motorcycles       0.98      0.97      0.97       398\n",
      "rec.sport.baseball       0.97      0.97      0.97       397\n",
      "  rec.sport.hockey       0.89      0.91      0.90       100\n",
      "\n",
      "          accuracy                           0.96      1291\n",
      "         macro avg       0.95      0.95      0.95      1291\n",
      "      weighted avg       0.96      0.96      0.96      1291\n",
      "\n",
      "\n",
      "balanced_accuracy 0.9542001559971448\n",
      "weighted f1 score: 0.9644306178887715\n"
     ]
    }
   ],
   "source": [
    "predicted = gs_model.predict(imbal_test_df[\"text\"])\n",
    "print(classification_report(imbal_test_df[\"target\"],\n",
    "                            predicted, \n",
    "                            target_names=new_labels))\n",
    "print()\n",
    "print(\"balanced_accuracy\", balanced_accuracy_score(imbal_test_df[\"target\"], \n",
    "                                                   predicted))\n",
    "\n",
    "print(\"weighted f1 score:\", f1_score(imbal_test_df[\"target\"], \n",
    "                                     predicted, \n",
    "                                     average=\"weighted\"))\n"
   ]
  },
  {
   "cell_type": "markdown",
   "metadata": {},
   "source": [
    "We can see that we can improve the model performance and overall we are doing very well! Let's see how a grid search would have peformed on the full data with balanced classes:"
   ]
  },
  {
   "cell_type": "code",
   "execution_count": 48,
   "metadata": {},
   "outputs": [
    {
     "name": "stdout",
     "output_type": "stream",
     "text": [
      "                    precision    recall  f1-score   support\n",
      "\n",
      "         rec.autos       0.96      0.97      0.96       396\n",
      "   rec.motorcycles       0.98      0.97      0.97       398\n",
      "rec.sport.baseball       0.97      0.95      0.96       397\n",
      "  rec.sport.hockey       0.96      0.98      0.97       399\n",
      "\n",
      "          accuracy                           0.97      1590\n",
      "         macro avg       0.97      0.97      0.97      1590\n",
      "      weighted avg       0.97      0.97      0.97      1590\n",
      "\n",
      "\n",
      "accuracy 0.9672955974842767\n"
     ]
    }
   ],
   "source": [
    "grid_search_orig = GridSearchCV(estimator  = pipe, \n",
    "                                param_grid = params, \n",
    "                                scoring    = \"accuracy\",\n",
    "                                cv         = 5,\n",
    "                                n_jobs     =-1)\n",
    "\n",
    "gs_model_orig    = grid_search_orig.fit(train_df[\"text\"], \n",
    "                                        train_df[\"target\"])\n",
    "\n",
    "predicted        = gs_model_orig.predict(test_df[\"text\"])\n",
    " \n",
    "print(classification_report(test_df[\"target\"],\n",
    "                            predicted, \n",
    "                            target_names=new_labels))\n",
    "\n",
    "print()\n",
    "print(\"accuracy\", accuracy_score(test_df[\"target\"], \n",
    "                                 predicted))"
   ]
  },
  {
   "cell_type": "markdown",
   "metadata": {},
   "source": [
    "We can see that our model's overall performance on the imbalanced class dataset is almost as good as a model on the balanced dataset! The recall for hockey is still much lower than the balanced dataset, but much better than where we started from. "
   ]
  },
  {
   "cell_type": "markdown",
   "metadata": {},
   "source": [
    "## Conclusions <a class=\"anchor\" id=\"eigth-bullet\"></a>\n",
    "\n",
    "\n",
    "In this blogpost we covered document classification using Scikit-learn and on a subset of 20 News Groups dataset that has one class that is imbalanced.  We went over the basics of term frequency-inverse document frequency, pipelines and the Naive Bayes classifier.  While we were able to improve the balanced accuracy of the basic Naive Bayes classifier from 73% to 95% and weighted f1 score from 86% to 96%. There are much more sophisticated models like a <a href=\"http://scikit-learn.org/stable/modules/svm.html#svm\">support vector classifiers</a> that may achieve higher performance, but they take substantially more time to train and therefore decided against using for this blogpost.\n",
    "\n",
    "One thing that we did not address was the topic of <a href=\"https://en.wikipedia.org/wiki/Stemming\">stemming</a> and <a href=\"https://en.wikipedia.org/wiki/Lemmatisation\">lemmatisation</a>, which both have to do with reducing a word down to its base form and when used can improve the performance of text classification models. Lemmatisation differs from stemming because it depends on identifying the intended part of speech and meaning of a word in a sentence. I did try a few of the stemmers and lemmatizers provided by NLTK, but for this blogpost the marginal improvment was not worth the increased time to train the model."
   ]
  }
 ],
 "metadata": {
  "anaconda-cloud": {},
  "kernelspec": {
   "display_name": "Python (NLP)",
   "language": "python",
   "name": "nlp"
  },
  "language_info": {
   "codemirror_mode": {
    "name": "ipython",
    "version": 3
   },
   "file_extension": ".py",
   "mimetype": "text/x-python",
   "name": "python",
   "nbconvert_exporter": "python",
   "pygments_lexer": "ipython3",
   "version": "3.7.4"
  }
 },
 "nbformat": 4,
 "nbformat_minor": 1
}
